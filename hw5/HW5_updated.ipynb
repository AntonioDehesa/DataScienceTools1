{
 "cells": [
  {
   "cell_type": "markdown",
   "id": "931380fd",
   "metadata": {},
   "source": [
    "## HW5: Webscraping and Pandas\n",
    "\n",
    "Note that this is a modified version of HW5.  The first part, concerning the use of selenium, is just for your edification."
   ]
  },
  {
   "cell_type": "code",
   "execution_count": 9,
   "id": "fc1fbc02",
   "metadata": {},
   "outputs": [],
   "source": [
    "from bs4 import BeautifulSoup as bsoup\n",
    "import requests\n",
    "from time import sleep\n",
    "from selenium import webdriver\n",
    "from selenium.webdriver.chrome.service import Service\n",
    "from selenium.webdriver.common.by import By\n",
    "from selenium.webdriver.common.keys import Keys"
   ]
  },
  {
   "cell_type": "markdown",
   "id": "073e8d77",
   "metadata": {},
   "source": [
    "#### Note that you need the driver binaries in a system path.  To view those paths you can run the following shell command."
   ]
  },
  {
   "cell_type": "code",
   "execution_count": 10,
   "id": "9513d72c",
   "metadata": {},
   "outputs": [
    {
     "name": "stdout",
     "output_type": "stream",
     "text": [
      "$PATH\n"
     ]
    }
   ],
   "source": [
    "!echo $PATH"
   ]
  },
  {
   "cell_type": "markdown",
   "id": "4e67bd97",
   "metadata": {},
   "source": [
    "#### Setting the service object and initializing the driver."
   ]
  },
  {
   "cell_type": "code",
   "execution_count": 11,
   "id": "05063dd7",
   "metadata": {},
   "outputs": [],
   "source": [
    "s = Service('chromedriver.exe')\n",
    "driver = webdriver.Chrome(service=s)\n",
    "driver.get('https://weather.com/')\n",
    "\n",
    "soup = bsoup(driver.page_source, 'lxml')"
   ]
  },
  {
   "cell_type": "code",
   "execution_count": 12,
   "id": "e0d58144",
   "metadata": {},
   "outputs": [
    {
     "ename": "ElementNotInteractableException",
     "evalue": "Message: element not interactable\n  (Session info: chrome=114.0.5735.199)\nStacktrace:\nBacktrace:\n\tGetHandleVerifier [0x0049A813+48355]\n\t(No symbol) [0x0042C4B1]\n\t(No symbol) [0x00335220]\n\t(No symbol) [0x0035D046]\n\t(No symbol) [0x0035C8B1]\n\t(No symbol) [0x0037A73C]\n\t(No symbol) [0x00359A36]\n\t(No symbol) [0x0037AA94]\n\t(No symbol) [0x0038C922]\n\t(No symbol) [0x0037A536]\n\t(No symbol) [0x003582DC]\n\t(No symbol) [0x003593DD]\n\tGetHandleVerifier [0x006FAABD+2539405]\n\tGetHandleVerifier [0x0073A78F+2800735]\n\tGetHandleVerifier [0x0073456C+2775612]\n\tGetHandleVerifier [0x005251E0+616112]\n\t(No symbol) [0x00435F8C]\n\t(No symbol) [0x00432328]\n\t(No symbol) [0x0043240B]\n\t(No symbol) [0x00424FF7]\n\tBaseThreadInitThunk [0x76CD7D59+25]\n\tRtlInitializeExceptionChain [0x77E5B74B+107]\n\tRtlClearBits [0x77E5B6CF+191]\n",
     "output_type": "error",
     "traceback": [
      "\u001b[1;31m---------------------------------------------------------------------------\u001b[0m",
      "\u001b[1;31mElementNotInteractableException\u001b[0m           Traceback (most recent call last)",
      "Input \u001b[1;32mIn [12]\u001b[0m, in \u001b[0;36m<cell line: 3>\u001b[1;34m()\u001b[0m\n\u001b[0;32m      1\u001b[0m search_string \u001b[38;5;241m=\u001b[39m \u001b[38;5;124m'\u001b[39m\u001b[38;5;124mUSA, 80208\u001b[39m\u001b[38;5;124m'\u001b[39m\n\u001b[0;32m      2\u001b[0m zipsearch \u001b[38;5;241m=\u001b[39m driver\u001b[38;5;241m.\u001b[39mfind_element(By\u001b[38;5;241m.\u001b[39mID, \u001b[38;5;124m\"\u001b[39m\u001b[38;5;124mLocationSearch_input\u001b[39m\u001b[38;5;124m\"\u001b[39m)\n\u001b[1;32m----> 3\u001b[0m \u001b[43mzipsearch\u001b[49m\u001b[38;5;241;43m.\u001b[39;49m\u001b[43msend_keys\u001b[49m\u001b[43m(\u001b[49m\u001b[43msearch_string\u001b[49m\u001b[43m)\u001b[49m\n\u001b[0;32m      4\u001b[0m sleep(\u001b[38;5;241m10\u001b[39m)\n\u001b[0;32m      5\u001b[0m driver\u001b[38;5;241m.\u001b[39mfind_element(By\u001b[38;5;241m.\u001b[39mXPATH, \u001b[38;5;124m'\u001b[39m\u001b[38;5;124m//*[@id=\u001b[39m\u001b[38;5;124m\"\u001b[39m\u001b[38;5;124mLocationSearch_listbox-0\u001b[39m\u001b[38;5;124m\"\u001b[39m\u001b[38;5;124m]\u001b[39m\u001b[38;5;124m'\u001b[39m)\u001b[38;5;241m.\u001b[39mclick()\n",
      "File \u001b[1;32m~\\anaconda3\\lib\\site-packages\\selenium\\webdriver\\remote\\webelement.py:231\u001b[0m, in \u001b[0;36mWebElement.send_keys\u001b[1;34m(self, *value)\u001b[0m\n\u001b[0;32m    228\u001b[0m             remote_files\u001b[38;5;241m.\u001b[39mappend(\u001b[38;5;28mself\u001b[39m\u001b[38;5;241m.\u001b[39m_upload(file))\n\u001b[0;32m    229\u001b[0m         value \u001b[38;5;241m=\u001b[39m \u001b[38;5;124m\"\u001b[39m\u001b[38;5;130;01m\\n\u001b[39;00m\u001b[38;5;124m\"\u001b[39m\u001b[38;5;241m.\u001b[39mjoin(remote_files)\n\u001b[1;32m--> 231\u001b[0m \u001b[38;5;28;43mself\u001b[39;49m\u001b[38;5;241;43m.\u001b[39;49m\u001b[43m_execute\u001b[49m\u001b[43m(\u001b[49m\n\u001b[0;32m    232\u001b[0m \u001b[43m    \u001b[49m\u001b[43mCommand\u001b[49m\u001b[38;5;241;43m.\u001b[39;49m\u001b[43mSEND_KEYS_TO_ELEMENT\u001b[49m\u001b[43m,\u001b[49m\u001b[43m \u001b[49m\u001b[43m{\u001b[49m\u001b[38;5;124;43m\"\u001b[39;49m\u001b[38;5;124;43mtext\u001b[39;49m\u001b[38;5;124;43m\"\u001b[39;49m\u001b[43m:\u001b[49m\u001b[43m \u001b[49m\u001b[38;5;124;43m\"\u001b[39;49m\u001b[38;5;124;43m\"\u001b[39;49m\u001b[38;5;241;43m.\u001b[39;49m\u001b[43mjoin\u001b[49m\u001b[43m(\u001b[49m\u001b[43mkeys_to_typing\u001b[49m\u001b[43m(\u001b[49m\u001b[43mvalue\u001b[49m\u001b[43m)\u001b[49m\u001b[43m)\u001b[49m\u001b[43m,\u001b[49m\u001b[43m \u001b[49m\u001b[38;5;124;43m\"\u001b[39;49m\u001b[38;5;124;43mvalue\u001b[39;49m\u001b[38;5;124;43m\"\u001b[39;49m\u001b[43m:\u001b[49m\u001b[43m \u001b[49m\u001b[43mkeys_to_typing\u001b[49m\u001b[43m(\u001b[49m\u001b[43mvalue\u001b[49m\u001b[43m)\u001b[49m\u001b[43m}\u001b[49m\n\u001b[0;32m    233\u001b[0m \u001b[43m\u001b[49m\u001b[43m)\u001b[49m\n",
      "File \u001b[1;32m~\\anaconda3\\lib\\site-packages\\selenium\\webdriver\\remote\\webelement.py:395\u001b[0m, in \u001b[0;36mWebElement._execute\u001b[1;34m(self, command, params)\u001b[0m\n\u001b[0;32m    393\u001b[0m     params \u001b[38;5;241m=\u001b[39m {}\n\u001b[0;32m    394\u001b[0m params[\u001b[38;5;124m\"\u001b[39m\u001b[38;5;124mid\u001b[39m\u001b[38;5;124m\"\u001b[39m] \u001b[38;5;241m=\u001b[39m \u001b[38;5;28mself\u001b[39m\u001b[38;5;241m.\u001b[39m_id\n\u001b[1;32m--> 395\u001b[0m \u001b[38;5;28;01mreturn\u001b[39;00m \u001b[38;5;28;43mself\u001b[39;49m\u001b[38;5;241;43m.\u001b[39;49m\u001b[43m_parent\u001b[49m\u001b[38;5;241;43m.\u001b[39;49m\u001b[43mexecute\u001b[49m\u001b[43m(\u001b[49m\u001b[43mcommand\u001b[49m\u001b[43m,\u001b[49m\u001b[43m \u001b[49m\u001b[43mparams\u001b[49m\u001b[43m)\u001b[49m\n",
      "File \u001b[1;32m~\\anaconda3\\lib\\site-packages\\selenium\\webdriver\\remote\\webdriver.py:346\u001b[0m, in \u001b[0;36mWebDriver.execute\u001b[1;34m(self, driver_command, params)\u001b[0m\n\u001b[0;32m    344\u001b[0m response \u001b[38;5;241m=\u001b[39m \u001b[38;5;28mself\u001b[39m\u001b[38;5;241m.\u001b[39mcommand_executor\u001b[38;5;241m.\u001b[39mexecute(driver_command, params)\n\u001b[0;32m    345\u001b[0m \u001b[38;5;28;01mif\u001b[39;00m response:\n\u001b[1;32m--> 346\u001b[0m     \u001b[38;5;28;43mself\u001b[39;49m\u001b[38;5;241;43m.\u001b[39;49m\u001b[43merror_handler\u001b[49m\u001b[38;5;241;43m.\u001b[39;49m\u001b[43mcheck_response\u001b[49m\u001b[43m(\u001b[49m\u001b[43mresponse\u001b[49m\u001b[43m)\u001b[49m\n\u001b[0;32m    347\u001b[0m     response[\u001b[38;5;124m\"\u001b[39m\u001b[38;5;124mvalue\u001b[39m\u001b[38;5;124m\"\u001b[39m] \u001b[38;5;241m=\u001b[39m \u001b[38;5;28mself\u001b[39m\u001b[38;5;241m.\u001b[39m_unwrap_value(response\u001b[38;5;241m.\u001b[39mget(\u001b[38;5;124m\"\u001b[39m\u001b[38;5;124mvalue\u001b[39m\u001b[38;5;124m\"\u001b[39m, \u001b[38;5;28;01mNone\u001b[39;00m))\n\u001b[0;32m    348\u001b[0m     \u001b[38;5;28;01mreturn\u001b[39;00m response\n",
      "File \u001b[1;32m~\\anaconda3\\lib\\site-packages\\selenium\\webdriver\\remote\\errorhandler.py:245\u001b[0m, in \u001b[0;36mErrorHandler.check_response\u001b[1;34m(self, response)\u001b[0m\n\u001b[0;32m    243\u001b[0m         alert_text \u001b[38;5;241m=\u001b[39m value[\u001b[38;5;124m\"\u001b[39m\u001b[38;5;124malert\u001b[39m\u001b[38;5;124m\"\u001b[39m]\u001b[38;5;241m.\u001b[39mget(\u001b[38;5;124m\"\u001b[39m\u001b[38;5;124mtext\u001b[39m\u001b[38;5;124m\"\u001b[39m)\n\u001b[0;32m    244\u001b[0m     \u001b[38;5;28;01mraise\u001b[39;00m exception_class(message, screen, stacktrace, alert_text)  \u001b[38;5;66;03m# type: ignore[call-arg]  # mypy is not smart enough here\u001b[39;00m\n\u001b[1;32m--> 245\u001b[0m \u001b[38;5;28;01mraise\u001b[39;00m exception_class(message, screen, stacktrace)\n",
      "\u001b[1;31mElementNotInteractableException\u001b[0m: Message: element not interactable\n  (Session info: chrome=114.0.5735.199)\nStacktrace:\nBacktrace:\n\tGetHandleVerifier [0x0049A813+48355]\n\t(No symbol) [0x0042C4B1]\n\t(No symbol) [0x00335220]\n\t(No symbol) [0x0035D046]\n\t(No symbol) [0x0035C8B1]\n\t(No symbol) [0x0037A73C]\n\t(No symbol) [0x00359A36]\n\t(No symbol) [0x0037AA94]\n\t(No symbol) [0x0038C922]\n\t(No symbol) [0x0037A536]\n\t(No symbol) [0x003582DC]\n\t(No symbol) [0x003593DD]\n\tGetHandleVerifier [0x006FAABD+2539405]\n\tGetHandleVerifier [0x0073A78F+2800735]\n\tGetHandleVerifier [0x0073456C+2775612]\n\tGetHandleVerifier [0x005251E0+616112]\n\t(No symbol) [0x00435F8C]\n\t(No symbol) [0x00432328]\n\t(No symbol) [0x0043240B]\n\t(No symbol) [0x00424FF7]\n\tBaseThreadInitThunk [0x76CD7D59+25]\n\tRtlInitializeExceptionChain [0x77E5B74B+107]\n\tRtlClearBits [0x77E5B6CF+191]\n"
     ]
    }
   ],
   "source": [
    "search_string = 'USA, 80208'\n",
    "zipsearch = driver.find_element(By.ID, \"LocationSearch_input\")\n",
    "zipsearch.send_keys(search_string)\n",
    "sleep(10)\n",
    "driver.find_element(By.XPATH, '//*[@id=\"LocationSearch_listbox-0\"]').click()"
   ]
  },
  {
   "cell_type": "markdown",
   "id": "5dd59f26",
   "metadata": {},
   "source": [
    "## The Actual Assignment Starts Here (9 points total)\n",
    "\n",
    "### Monthly weather can be accessed through weather.com by passing lat and lon coordinates in the URL.  For this assignment we will specify one pair of lat/lon coordinates and scrape the montly weather data from that page.  See below for an example url. Note that we could easily extend this by specifying a list of tuples and iterating over those coordinate pairs.\n",
    "\n",
    "__For this part, all you need to do is specify lat/lon coords and make a good request.__ (1 point)\n",
    "\n",
    "https://weather.com/weather/monthly/l/39.7393,-104.9844"
   ]
  },
  {
   "cell_type": "code",
   "execution_count": null,
   "id": "ead814cd",
   "metadata": {},
   "outputs": [],
   "source": [
    "locations = (39.7392, -104.9902) # your tuple of lat/lon coords.\n",
    "\n",
    "base_url = \"https://weather.com/weather/monthly/l/\"\n",
    "temp_url = base_url + str(locations[0]) + ',' + str(locations[1])\n",
    "\n",
    "response = requests.get(temp_url)"
   ]
  },
  {
   "cell_type": "code",
   "execution_count": null,
   "id": "d02cd374",
   "metadata": {},
   "outputs": [],
   "source": [
    "response.status_code"
   ]
  },
  {
   "cell_type": "code",
   "execution_count": null,
   "id": "a71b4752",
   "metadata": {},
   "outputs": [],
   "source": [
    "soup = bsoup(response.text, 'lxml')"
   ]
  },
  {
   "cell_type": "code",
   "execution_count": null,
   "id": "f1e8ca7e",
   "metadata": {},
   "outputs": [],
   "source": [
    "print(soup.prettify())"
   ]
  },
  {
   "cell_type": "markdown",
   "id": "d42afff9",
   "metadata": {},
   "source": [
    "#### Below, to get you started I've run find_all using a very basic regex to match the class name we're concerned with."
   ]
  },
  {
   "cell_type": "code",
   "execution_count": null,
   "id": "ad072723",
   "metadata": {},
   "outputs": [],
   "source": [
    "import re\n",
    "\n",
    "cal = soup.find_all('button', {'class': re.compile('Button--default--3zkvy CalendarDateCell*')})"
   ]
  },
  {
   "cell_type": "markdown",
   "id": "f7df45b4",
   "metadata": {},
   "source": [
    "#### Below we're printing out the information comprising a single calendar day."
   ]
  },
  {
   "cell_type": "code",
   "execution_count": null,
   "id": "723f0b77",
   "metadata": {},
   "outputs": [],
   "source": [
    "print(cal[0])"
   ]
  },
  {
   "cell_type": "markdown",
   "id": "7306037f",
   "metadata": {},
   "source": [
    "### We can continue to use bs4 to parse these data, or we can cast the elements in cal (our days) to str and use str methods to parse.  This is up to you.\n",
    "\n",
    "_**Pull out the following information for each day and store them in a Pandas DataFrame:**_  (3 points)\n",
    "\n",
    "-month: The month component of the date.  Note date is expressed as month/day. For example, 9/25.\n",
    "\n",
    "-day: Numerical day of the month\n",
    "\n",
    "-moon_phase: Day n\n",
    "\n",
    "-weather_desc: (e.g., mostly cloudy, sunny, rain, etc.)\n",
    "\n",
    "_**Also build a new feature, day, which will represent the day of the week (e.g., Monday, Tuesday, etc.)\n",
    "This information isn't included in the text, but can be computed. Retain the weather_desc feature. **_ (1 point)"
   ]
  },
  {
   "cell_type": "code",
   "execution_count": null,
   "id": "0d6d785e",
   "metadata": {},
   "outputs": [],
   "source": [
    "# Your Code Here...Feel free to use multiple cells."
   ]
  },
  {
   "cell_type": "markdown",
   "id": "bfa12d71",
   "metadata": {},
   "source": [
    "### Now build the following feature:\n",
    "\n",
    "-temp_diff: The difference between the high and low daily temperature. (1 point)"
   ]
  },
  {
   "cell_type": "code",
   "execution_count": null,
   "id": "2d2bd371",
   "metadata": {},
   "outputs": [],
   "source": [
    "# Your Code Here"
   ]
  },
  {
   "cell_type": "markdown",
   "id": "9993d220",
   "metadata": {},
   "source": [
    "### Build Dummy Variables to represent weather_desc.  These are binary features.  You will have one for each of the unique categories in weather_desc.  These categories only need to represent the data that you have scraped. \n",
    "(1 point)"
   ]
  },
  {
   "cell_type": "code",
   "execution_count": null,
   "id": "a0ad8fb4",
   "metadata": {},
   "outputs": [],
   "source": [
    "# Your Code Here"
   ]
  },
  {
   "cell_type": "markdown",
   "id": "92b3740e",
   "metadata": {},
   "source": [
    "#### Use your DataFrame to answer the following questsions.\n",
    "\n",
    "__Using only the data you collected from a single page (42 days).  What is the average high temperature for each month?__ (1 point)"
   ]
  },
  {
   "cell_type": "code",
   "execution_count": null,
   "id": "06ff55ce",
   "metadata": {},
   "outputs": [],
   "source": [
    "# Your Code Here"
   ]
  },
  {
   "cell_type": "markdown",
   "id": "780725b4",
   "metadata": {},
   "source": [
    "__Pivot your DataFrame to show the average high temperature over the entire dataset by the weather_desc categories__ (1 point)"
   ]
  },
  {
   "cell_type": "code",
   "execution_count": null,
   "id": "8bd31c58",
   "metadata": {},
   "outputs": [],
   "source": [
    "# Your Code Here"
   ]
  }
 ],
 "metadata": {
  "kernelspec": {
   "display_name": "Python 3 (ipykernel)",
   "language": "python",
   "name": "python3"
  },
  "language_info": {
   "codemirror_mode": {
    "name": "ipython",
    "version": 3
   },
   "file_extension": ".py",
   "mimetype": "text/x-python",
   "name": "python",
   "nbconvert_exporter": "python",
   "pygments_lexer": "ipython3",
   "version": "3.9.12"
  }
 },
 "nbformat": 4,
 "nbformat_minor": 5
}
