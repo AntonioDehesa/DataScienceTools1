{
 "cells": [
  {
   "cell_type": "code",
   "execution_count": 1,
   "id": "174a1191",
   "metadata": {},
   "outputs": [
    {
     "name": "stdout",
     "output_type": "stream",
     "text": [
      "         date  units\n",
      "0  2010-01-05     15\n",
      "1  2010-01-10     20\n",
      "2  2010-01-15     25\n",
      "3  2010-01-20     35\n",
      "4  2010-01-25     50\n",
      "5  2010-01-30     55\n",
      "<class 'pandas.core.frame.DataFrame'>\n",
      "RangeIndex: 6 entries, 0 to 5\n",
      "Data columns (total 2 columns):\n",
      " #   Column  Non-Null Count  Dtype \n",
      "---  ------  --------------  ----- \n",
      " 0   date    6 non-null      object\n",
      " 1   units   6 non-null      int64 \n",
      "dtypes: int64(1), object(1)\n",
      "memory usage: 224.0+ bytes\n"
     ]
    }
   ],
   "source": [
    "import pandas as pd\n",
    "import matplotlib.pyplot as plt\n",
    "dlist=['2010-01-05','2010-01-10','2010-01-15',\n",
    "  '2010-01-20','2010-01-25','2010-01-30']\n",
    "ulist=[15,20,25,35,50,55]\n",
    "df=pd.DataFrame({'date':dlist, 'units':ulist})\n",
    "print(df)\n",
    "df.info()"
   ]
  },
  {
   "cell_type": "code",
   "execution_count": 2,
   "id": "c2030f3e",
   "metadata": {},
   "outputs": [
    {
     "name": "stdout",
     "output_type": "stream",
     "text": [
      "        date  units\n",
      "0 2010-01-05     15\n",
      "1 2010-01-10     20\n",
      "2 2010-01-15     25\n",
      "3 2010-01-20     35\n",
      "4 2010-01-25     50\n",
      "5 2010-01-30     55\n",
      "<class 'pandas.core.frame.DataFrame'>\n",
      "RangeIndex: 6 entries, 0 to 5\n",
      "Data columns (total 2 columns):\n",
      " #   Column  Non-Null Count  Dtype         \n",
      "---  ------  --------------  -----         \n",
      " 0   date    6 non-null      datetime64[ns]\n",
      " 1   units   6 non-null      int64         \n",
      "dtypes: datetime64[ns](1), int64(1)\n",
      "memory usage: 224.0 bytes\n"
     ]
    }
   ],
   "source": [
    "df['date']=pd.to_datetime(df['date'])\n",
    "print(df)\n",
    "df.info()"
   ]
  },
  {
   "cell_type": "code",
   "execution_count": 3,
   "id": "a7222eac",
   "metadata": {},
   "outputs": [
    {
     "name": "stdout",
     "output_type": "stream",
     "text": [
      "            units\n",
      "date             \n",
      "2010-01-05     15\n",
      "2010-01-10     20\n",
      "2010-01-15     25\n",
      "2010-01-20     35\n",
      "2010-01-25     50\n",
      "2010-01-30     55\n",
      "<class 'pandas.core.frame.DataFrame'>\n",
      "DatetimeIndex: 6 entries, 2010-01-05 to 2010-01-30\n",
      "Data columns (total 1 columns):\n",
      " #   Column  Non-Null Count  Dtype\n",
      "---  ------  --------------  -----\n",
      " 0   units   6 non-null      int64\n",
      "dtypes: int64(1)\n",
      "memory usage: 96.0 bytes\n"
     ]
    }
   ],
   "source": [
    "df['date']=pd.to_datetime(df['date'])\n",
    "df2=df.set_index('date')\n",
    "print(df2)\n",
    "df2.info()\n"
   ]
  },
  {
   "cell_type": "code",
   "execution_count": 4,
   "id": "6ef8a5ce",
   "metadata": {},
   "outputs": [
    {
     "data": {
      "image/png": "[encoded data removed]",
      "text/plain": [
       "<Figure size 1152x576 with 1 Axes>"
      ]
     },
     "metadata": {
      "needs_background": "light"
     },
     "output_type": "display_data"
    }
   ],
   "source": [
    "fig2=plt.figure(figsize=(16,8))\n",
    "#we use the \"get current Axis instance\"\n",
    "ax=plt.gca()\n",
    "ax.plot(df2['units'],color='r')\n",
    "ax.set_xlabel('Date')\n",
    "ax.set_ylabel('Units Ordered')\n",
    "plt.show()"
   ]
  }
 ],
 "metadata": {
  "kernelspec": {
   "display_name": "Python 3 (ipykernel)",
   "language": "python",
   "name": "python3"
  },
  "language_info": {
   "codemirror_mode": {
    "name": "ipython",
    "version": 3
   },
   "file_extension": ".py",
   "mimetype": "text/x-python",
   "name": "python",
   "nbconvert_exporter": "python",
   "pygments_lexer": "ipython3",
   "version": "3.10.6"
  },
  "vscode": {
   "interpreter": {
    "hash": "ebd1f7e05a3dcbf22a9ead084ebf1b221622d1cdd49bb8a26117ecf7e6d908b3"
   }
  }
 },
 "nbformat": 4,
 "nbformat_minor": 5
}
