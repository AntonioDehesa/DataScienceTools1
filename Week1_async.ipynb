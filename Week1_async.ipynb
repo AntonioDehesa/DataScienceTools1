{
 "cells": [
  {
   "cell_type": "code",
   "execution_count": 3,
   "id": "095ea76f",
   "metadata": {},
   "outputs": [
    {
     "data": {
      "text/markdown": [
       "# This is Markdown\n"
      ],
      "text/plain": [
       "<IPython.core.display.Markdown object>"
      ]
     },
     "metadata": {},
     "output_type": "display_data"
    }
   ],
   "source": [
    "%%markdown\n",
    "# This is Markdown"
   ]
  },
  {
   "cell_type": "markdown",
   "id": "850bb0f7",
   "metadata": {},
   "source": [
    "%% latex\n",
    "This is latex\n",
    "$\\lambda = \\infty$"
   ]
  },
  {
   "cell_type": "code",
   "execution_count": 3,
   "id": "d9065fa4",
   "metadata": {},
   "outputs": [
    {
     "name": "stdout",
     "output_type": "stream",
     "text": [
      "22.4 µs ± 477 ns per loop (mean ± std. dev. of 7 runs, 10000 loops each)\n"
     ]
    }
   ],
   "source": [
    "# Line magic\n",
    "%timeit [x/2+4 for x in range(500)]"
   ]
  },
  {
   "cell_type": "code",
   "execution_count": 1,
   "id": "d3334fe6",
   "metadata": {},
   "outputs": [
    {
     "name": "stdout",
     "output_type": "stream",
     "text": [
      "651 ns ± 6.45 ns per loop (mean ± std. dev. of 7 runs, 1000000 loops each)\n"
     ]
    }
   ],
   "source": [
    "%%timeit\n",
    "# Cell Magic\n",
    "def fibo(n):\n",
    "    if n == 0:\n",
    "        return 0\n",
    "    elif n == 1 or n == 2:\n",
    "        return 1\n",
    "    else:\n",
    "        return fibo(n-1) + fibo(n-2)\n",
    "fibo(5)"
   ]
  },
  {
   "cell_type": "markdown",
   "id": "594583fc",
   "metadata": {},
   "source": [
    "%% html\n",
    "<h1>This is HTML</h1>"
   ]
  }
 ],
 "metadata": {
  "kernelspec": {
   "display_name": "Python 3 (ipykernel)",
   "language": "python",
   "name": "python3"
  },
  "language_info": {
   "codemirror_mode": {
    "name": "ipython",
    "version": 3
   },
   "file_extension": ".py",
   "mimetype": "text/x-python",
   "name": "python",
   "nbconvert_exporter": "python",
   "pygments_lexer": "ipython3",
   "version": "3.10.6"
  }
 },
 "nbformat": 4,
 "nbformat_minor": 5
}
